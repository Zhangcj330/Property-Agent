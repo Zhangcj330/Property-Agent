{
 "cells": [
  {
   "cell_type": "code",
   "execution_count": 1,
   "metadata": {},
   "outputs": [
    {
     "name": "stdout",
     "output_type": "stream",
     "text": [
      "✅ 成功创建 suburb_data.duckdb 并写入 suburbs 表\n"
     ]
    },
    {
     "ename": "",
     "evalue": "",
     "output_type": "error",
     "traceback": [
      "\u001b[1;31mThe Kernel crashed while executing code in the current cell or a previous cell. \n",
      "\u001b[1;31mPlease review the code in the cell(s) to identify a possible cause of the failure. \n",
      "\u001b[1;31mClick <a href='https://aka.ms/vscodeJupyterKernelCrash'>here</a> for more info. \n",
      "\u001b[1;31mView Jupyter <a href='command:jupyter.viewOutput'>log</a> for further details."
     ]
    }
   ],
   "source": [
    "import duckdb\n",
    "import pandas as pd\n",
    "\n",
    "# 1. 加载 Excel 文件\n",
    "excel_path = \"Research Data sent.xlsx\"  # 👈 确保文件名正确\n",
    "df = pd.read_excel(excel_path, sheet_name=\"Consolidated\")\n",
    "\n",
    "# 2. 清理列名（避免空格或括号影响 SQL 查询）\n",
    "df.columns = [c.strip().replace(' ', '_').replace('(', '').replace(')', '') for c in df.columns]\n",
    "\n",
    "# 3. 创建 DuckDB 文件（生成 suburb_data.duckdb）\n",
    "con = duckdb.connect(\"suburb_data.duckdb\")\n",
    "\n",
    "# 4. 将 DataFrame 写入数据库\n",
    "con.register(\"temp_df\", df)\n",
    "con.execute(\"CREATE OR REPLACE TABLE suburbs AS SELECT * FROM temp_df\")\n",
    "\n",
    "print(\"✅ 成功创建 suburb_data.duckdb 并写入 suburbs 表\")\n"
   ]
  },
  {
   "cell_type": "code",
   "execution_count": 2,
   "metadata": {},
   "outputs": [
    {
     "data": {
      "text/html": [
       "<div>\n",
       "<style scoped>\n",
       "    .dataframe tbody tr th:only-of-type {\n",
       "        vertical-align: middle;\n",
       "    }\n",
       "\n",
       "    .dataframe tbody tr th {\n",
       "        vertical-align: top;\n",
       "    }\n",
       "\n",
       "    .dataframe thead th {\n",
       "        text-align: right;\n",
       "    }\n",
       "</style>\n",
       "<table border=\"1\" class=\"dataframe\">\n",
       "  <thead>\n",
       "    <tr style=\"text-align: right;\">\n",
       "      <th></th>\n",
       "      <th>Suburb_Name</th>\n",
       "      <th>Smart_Median_House_Price</th>\n",
       "    </tr>\n",
       "  </thead>\n",
       "  <tbody>\n",
       "    <tr>\n",
       "      <th>0</th>\n",
       "      <td>Vaucluse</td>\n",
       "      <td>7410000</td>\n",
       "    </tr>\n",
       "    <tr>\n",
       "      <th>1</th>\n",
       "      <td>Point Piper</td>\n",
       "      <td>6820000</td>\n",
       "    </tr>\n",
       "    <tr>\n",
       "      <th>2</th>\n",
       "      <td>Watsons Bay</td>\n",
       "      <td>6420000</td>\n",
       "    </tr>\n",
       "    <tr>\n",
       "      <th>3</th>\n",
       "      <td>Bellevue Hill</td>\n",
       "      <td>6350000</td>\n",
       "    </tr>\n",
       "    <tr>\n",
       "      <th>4</th>\n",
       "      <td>Tamarama</td>\n",
       "      <td>5600000</td>\n",
       "    </tr>\n",
       "  </tbody>\n",
       "</table>\n",
       "</div>"
      ],
      "text/plain": [
       "     Suburb_Name  Smart_Median_House_Price\n",
       "0       Vaucluse                   7410000\n",
       "1    Point Piper                   6820000\n",
       "2    Watsons Bay                   6420000\n",
       "3  Bellevue Hill                   6350000\n",
       "4       Tamarama                   5600000"
      ]
     },
     "execution_count": 2,
     "metadata": {},
     "output_type": "execute_result"
    },
    {
     "ename": "",
     "evalue": "",
     "output_type": "error",
     "traceback": [
      "\u001b[1;31mThe Kernel crashed while executing code in the current cell or a previous cell. \n",
      "\u001b[1;31mPlease review the code in the cell(s) to identify a possible cause of the failure. \n",
      "\u001b[1;31mClick <a href='https://aka.ms/vscodeJupyterKernelCrash'>here</a> for more info. \n",
      "\u001b[1;31mView Jupyter <a href='command:jupyter.viewOutput'>log</a> for further details."
     ]
    }
   ],
   "source": [
    "# 查 top 5 房价最高的 suburb\n",
    "con.execute(\"\"\"\n",
    "SELECT Suburb_Name, Smart_Median_House_Price\n",
    "FROM suburbs\n",
    "ORDER BY Smart_Median_House_Price DESC\n",
    "LIMIT 5\n",
    "\"\"\").fetchdf()"
   ]
  }
 ],
 "metadata": {
  "kernelspec": {
   "display_name": "venv",
   "language": "python",
   "name": "python3"
  },
  "language_info": {
   "codemirror_mode": {
    "name": "ipython",
    "version": 3
   },
   "file_extension": ".py",
   "mimetype": "text/x-python",
   "name": "python",
   "nbconvert_exporter": "python",
   "pygments_lexer": "ipython3",
   "version": "3.12.9"
  }
 },
 "nbformat": 4,
 "nbformat_minor": 2
}
